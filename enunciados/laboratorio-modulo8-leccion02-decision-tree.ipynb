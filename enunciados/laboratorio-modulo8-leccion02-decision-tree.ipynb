{
 "cells": [
  {
   "cell_type": "markdown",
   "metadata": {},
   "source": [
    "# Árboles de decisión"
   ]
  },
  {
   "cell_type": "code",
   "execution_count": 1,
   "metadata": {},
   "outputs": [],
   "source": [
    "import pandas as pd\n",
    "import numpy as np\n",
    "\n",
    "import seaborn as sns\n",
    "import matplotlib.pyplot as plt\n",
    "\n",
    "from sklearn.model_selection import train_test_split, GridSearchCV\n",
    "from sklearn.tree import DecisionTreeRegressor, plot_tree\n",
    "from sklearn.metrics import r2_score, mean_absolute_error, mean_squared_error\n",
    "\n",
    "import sys\n",
    "import os\n",
    "sys.path.append(\"../\")\n",
    "\n",
    "from src import funciones_problemas_regresion as fpr"
   ]
  },
  {
   "cell_type": "code",
   "execution_count": null,
   "metadata": {},
   "outputs": [
    {
     "name": "stdout",
     "output_type": "stream",
     "text": [
      "Las mejores métricas para el modelo de DecisionTreeRegressor son:\n",
      "DecisionTreeRegressor(max_depth=9, max_leaf_nodes=30, min_samples_leaf=10,\n",
      "                      min_samples_split=10)\n"
     ]
    },
    {
     "data": {
      "text/html": [
       "<div>\n",
       "<style scoped>\n",
       "    .dataframe tbody tr th:only-of-type {\n",
       "        vertical-align: middle;\n",
       "    }\n",
       "\n",
       "    .dataframe tbody tr th {\n",
       "        vertical-align: top;\n",
       "    }\n",
       "\n",
       "    .dataframe thead th {\n",
       "        text-align: right;\n",
       "    }\n",
       "</style>\n",
       "<table border=\"1\" class=\"dataframe\">\n",
       "  <thead>\n",
       "    <tr style=\"text-align: right;\">\n",
       "      <th></th>\n",
       "      <th>r2_scores</th>\n",
       "      <th>MAE</th>\n",
       "      <th>MSE</th>\n",
       "      <th>RMSE</th>\n",
       "    </tr>\n",
       "  </thead>\n",
       "  <tbody>\n",
       "    <tr>\n",
       "      <th>train</th>\n",
       "      <td>0.636115</td>\n",
       "      <td>2501.775422</td>\n",
       "      <td>1.635452e+07</td>\n",
       "      <td>4044.071661</td>\n",
       "    </tr>\n",
       "    <tr>\n",
       "      <th>test</th>\n",
       "      <td>0.630525</td>\n",
       "      <td>2499.676654</td>\n",
       "      <td>1.620091e+07</td>\n",
       "      <td>4025.035573</td>\n",
       "    </tr>\n",
       "  </tbody>\n",
       "</table>\n",
       "</div>"
      ],
      "text/plain": [
       "       r2_scores          MAE           MSE         RMSE\n",
       "train   0.636115  2501.775422  1.635452e+07  4044.071661\n",
       "test    0.630525  2499.676654  1.620091e+07  4025.035573"
      ]
     },
     "execution_count": 2,
     "metadata": {},
     "output_type": "execute_result"
    }
   ],
   "source": [
    "df =  pd.read_csv(\"../datos/df_autorenew_nonulls_estand_sinout_encoded.csv\", index_col=0).reset_index(drop=True)\n",
    "variable_respuesta = \"price\"\n",
    "\n",
    "# Inicializamos la clase, separamos VR y VD y separamos el train y el test.\n",
    "clase_arbol = fpr.ArbolesDecision(df, variable_respuesta)\n",
    "clase_arbol.separar_variables()\n",
    "clase_arbol.separar_train_test()\n",
    "\n",
    "# Estudiamos cuales son los mejores parámetros, entrenamos al modelo y vemos las métricas.\n",
    "params_arbol = {\n",
    "    \"max_depth\" : [5,7,9,10,11],\n",
    "    \"min_samples_split\" : [10, 50, 100, 200],\n",
    "    \"min_samples_leaf\" : [10, 50, 100, 200],\n",
    "    \"max_leaf_nodes\" : [4, 6, 8, 10, 20, 30]\n",
    "}\n",
    "\n",
    "clase_arbol.grid_fit_metrics(params_arbol)"
   ]
  },
  {
   "cell_type": "code",
   "execution_count": 3,
   "metadata": {},
   "outputs": [
    {
     "name": "stdout",
     "output_type": "stream",
     "text": [
      "Las mejores métricas para el modelo de DecisionTreeRegressor son:\n",
      "DecisionTreeRegressor(max_depth=8, max_leaf_nodes=50, min_samples_leaf=5,\n",
      "                      min_samples_split=5)\n"
     ]
    },
    {
     "data": {
      "text/html": [
       "<div>\n",
       "<style scoped>\n",
       "    .dataframe tbody tr th:only-of-type {\n",
       "        vertical-align: middle;\n",
       "    }\n",
       "\n",
       "    .dataframe tbody tr th {\n",
       "        vertical-align: top;\n",
       "    }\n",
       "\n",
       "    .dataframe thead th {\n",
       "        text-align: right;\n",
       "    }\n",
       "</style>\n",
       "<table border=\"1\" class=\"dataframe\">\n",
       "  <thead>\n",
       "    <tr style=\"text-align: right;\">\n",
       "      <th></th>\n",
       "      <th>r2_scores</th>\n",
       "      <th>MAE</th>\n",
       "      <th>MSE</th>\n",
       "      <th>RMSE</th>\n",
       "    </tr>\n",
       "  </thead>\n",
       "  <tbody>\n",
       "    <tr>\n",
       "      <th>train</th>\n",
       "      <td>0.674299</td>\n",
       "      <td>2354.912462</td>\n",
       "      <td>1.463836e+07</td>\n",
       "      <td>3826.010901</td>\n",
       "    </tr>\n",
       "    <tr>\n",
       "      <th>test</th>\n",
       "      <td>0.668836</td>\n",
       "      <td>2351.586655</td>\n",
       "      <td>1.452104e+07</td>\n",
       "      <td>3810.647925</td>\n",
       "    </tr>\n",
       "  </tbody>\n",
       "</table>\n",
       "</div>"
      ],
      "text/plain": [
       "       r2_scores          MAE           MSE         RMSE\n",
       "train   0.674299  2354.912462  1.463836e+07  3826.010901\n",
       "test    0.668836  2351.586655  1.452104e+07  3810.647925"
      ]
     },
     "execution_count": 3,
     "metadata": {},
     "output_type": "execute_result"
    }
   ],
   "source": [
    "# Reajustamos los parámetros y volvemos a probar\n",
    "params_arbol_2 = {\n",
    "    \"max_depth\" : [7,8,9,10,11],\n",
    "    \"max_leaf_nodes\" : [10, 20, 30, 40, 50],\n",
    "    \"min_samples_leaf\" : [5, 10, 15, 20],\n",
    "    \"min_samples_split\" : [5, 10, 15, 20]\n",
    "}\n",
    "\n",
    "clase_arbol.grid_fit_metrics(params_arbol_2)"
   ]
  },
  {
   "cell_type": "code",
   "execution_count": 4,
   "metadata": {},
   "outputs": [
    {
     "name": "stdout",
     "output_type": "stream",
     "text": [
      "Las mejores métricas para el modelo de DecisionTreeRegressor son:\n",
      "DecisionTreeRegressor(max_depth=9, max_leaf_nodes=70, min_samples_leaf=20,\n",
      "                      min_samples_split=5)\n"
     ]
    },
    {
     "data": {
      "text/html": [
       "<div>\n",
       "<style scoped>\n",
       "    .dataframe tbody tr th:only-of-type {\n",
       "        vertical-align: middle;\n",
       "    }\n",
       "\n",
       "    .dataframe tbody tr th {\n",
       "        vertical-align: top;\n",
       "    }\n",
       "\n",
       "    .dataframe thead th {\n",
       "        text-align: right;\n",
       "    }\n",
       "</style>\n",
       "<table border=\"1\" class=\"dataframe\">\n",
       "  <thead>\n",
       "    <tr style=\"text-align: right;\">\n",
       "      <th></th>\n",
       "      <th>r2_scores</th>\n",
       "      <th>MAE</th>\n",
       "      <th>MSE</th>\n",
       "      <th>RMSE</th>\n",
       "    </tr>\n",
       "  </thead>\n",
       "  <tbody>\n",
       "    <tr>\n",
       "      <th>train</th>\n",
       "      <td>0.694544</td>\n",
       "      <td>2271.904893</td>\n",
       "      <td>1.372849e+07</td>\n",
       "      <td>3705.198311</td>\n",
       "    </tr>\n",
       "    <tr>\n",
       "      <th>test</th>\n",
       "      <td>0.690484</td>\n",
       "      <td>2269.818898</td>\n",
       "      <td>1.357179e+07</td>\n",
       "      <td>3683.991462</td>\n",
       "    </tr>\n",
       "  </tbody>\n",
       "</table>\n",
       "</div>"
      ],
      "text/plain": [
       "       r2_scores          MAE           MSE         RMSE\n",
       "train   0.694544  2271.904893  1.372849e+07  3705.198311\n",
       "test    0.690484  2269.818898  1.357179e+07  3683.991462"
      ]
     },
     "execution_count": 4,
     "metadata": {},
     "output_type": "execute_result"
    }
   ],
   "source": [
    "# Reajustamos los parámetros y volvemos a probar\n",
    "params_arbol_3 = {\n",
    "    \"max_depth\" : [6,7,8,9,10],\n",
    "    \"max_leaf_nodes\" : [40, 50, 60, 70],\n",
    "    \"min_samples_leaf\" : [5, 10, 15, 20],\n",
    "    \"min_samples_split\" : [5, 10, 15, 20]\n",
    "}\n",
    "\n",
    "clase_arbol.grid_fit_metrics(params_arbol_3)"
   ]
  },
  {
   "cell_type": "code",
   "execution_count": 5,
   "metadata": {},
   "outputs": [
    {
     "name": "stdout",
     "output_type": "stream",
     "text": [
      "Las mejores métricas para el modelo de DecisionTreeRegressor son:\n",
      "DecisionTreeRegressor(max_depth=9, max_leaf_nodes=90, min_samples_leaf=30,\n",
      "                      min_samples_split=5)\n"
     ]
    },
    {
     "data": {
      "text/html": [
       "<div>\n",
       "<style scoped>\n",
       "    .dataframe tbody tr th:only-of-type {\n",
       "        vertical-align: middle;\n",
       "    }\n",
       "\n",
       "    .dataframe tbody tr th {\n",
       "        vertical-align: top;\n",
       "    }\n",
       "\n",
       "    .dataframe thead th {\n",
       "        text-align: right;\n",
       "    }\n",
       "</style>\n",
       "<table border=\"1\" class=\"dataframe\">\n",
       "  <thead>\n",
       "    <tr style=\"text-align: right;\">\n",
       "      <th></th>\n",
       "      <th>r2_scores</th>\n",
       "      <th>MAE</th>\n",
       "      <th>MSE</th>\n",
       "      <th>RMSE</th>\n",
       "    </tr>\n",
       "  </thead>\n",
       "  <tbody>\n",
       "    <tr>\n",
       "      <th>train</th>\n",
       "      <td>0.708208</td>\n",
       "      <td>2208.030859</td>\n",
       "      <td>1.311436e+07</td>\n",
       "      <td>3621.376087</td>\n",
       "    </tr>\n",
       "    <tr>\n",
       "      <th>test</th>\n",
       "      <td>0.703019</td>\n",
       "      <td>2209.494536</td>\n",
       "      <td>1.302214e+07</td>\n",
       "      <td>3608.620408</td>\n",
       "    </tr>\n",
       "  </tbody>\n",
       "</table>\n",
       "</div>"
      ],
      "text/plain": [
       "       r2_scores          MAE           MSE         RMSE\n",
       "train   0.708208  2208.030859  1.311436e+07  3621.376087\n",
       "test    0.703019  2209.494536  1.302214e+07  3608.620408"
      ]
     },
     "execution_count": 5,
     "metadata": {},
     "output_type": "execute_result"
    }
   ],
   "source": [
    "# Reajustamos los parámetros y volvemos a probar\n",
    "params_arbol_4 = {\n",
    "    \"max_depth\" : [7,8,9,10,11],\n",
    "    \"max_leaf_nodes\" : [60, 70, 80, 90],\n",
    "    \"min_samples_leaf\" : [10, 15, 20, 30],\n",
    "    \"min_samples_split\" : [5, 10, 15, 20]\n",
    "}\n",
    "\n",
    "clase_arbol.grid_fit_metrics(params_arbol_4)"
   ]
  },
  {
   "cell_type": "code",
   "execution_count": 6,
   "metadata": {},
   "outputs": [
    {
     "name": "stdout",
     "output_type": "stream",
     "text": [
      "Las mejores métricas para el modelo de DecisionTreeRegressor son:\n",
      "DecisionTreeRegressor(max_depth=9, max_leaf_nodes=110, min_samples_leaf=40,\n",
      "                      min_samples_split=5)\n"
     ]
    },
    {
     "data": {
      "text/html": [
       "<div>\n",
       "<style scoped>\n",
       "    .dataframe tbody tr th:only-of-type {\n",
       "        vertical-align: middle;\n",
       "    }\n",
       "\n",
       "    .dataframe tbody tr th {\n",
       "        vertical-align: top;\n",
       "    }\n",
       "\n",
       "    .dataframe thead th {\n",
       "        text-align: right;\n",
       "    }\n",
       "</style>\n",
       "<table border=\"1\" class=\"dataframe\">\n",
       "  <thead>\n",
       "    <tr style=\"text-align: right;\">\n",
       "      <th></th>\n",
       "      <th>r2_scores</th>\n",
       "      <th>MAE</th>\n",
       "      <th>MSE</th>\n",
       "      <th>RMSE</th>\n",
       "    </tr>\n",
       "  </thead>\n",
       "  <tbody>\n",
       "    <tr>\n",
       "      <th>train</th>\n",
       "      <td>0.718125</td>\n",
       "      <td>2159.851177</td>\n",
       "      <td>1.266862e+07</td>\n",
       "      <td>3559.301071</td>\n",
       "    </tr>\n",
       "    <tr>\n",
       "      <th>test</th>\n",
       "      <td>0.711433</td>\n",
       "      <td>2164.497721</td>\n",
       "      <td>1.265322e+07</td>\n",
       "      <td>3557.137097</td>\n",
       "    </tr>\n",
       "  </tbody>\n",
       "</table>\n",
       "</div>"
      ],
      "text/plain": [
       "       r2_scores          MAE           MSE         RMSE\n",
       "train   0.718125  2159.851177  1.266862e+07  3559.301071\n",
       "test    0.711433  2164.497721  1.265322e+07  3557.137097"
      ]
     },
     "execution_count": 6,
     "metadata": {},
     "output_type": "execute_result"
    }
   ],
   "source": [
    "# Reajustamos los parámetros y volvemos a probar\n",
    "params_arbol_5 = {\n",
    "    \"max_depth\" : [7,8,9,10,11],\n",
    "    \"max_leaf_nodes\" : [80, 90, 100, 110],\n",
    "    \"min_samples_leaf\" : [20, 30, 40, 50],\n",
    "    \"min_samples_split\" : [5, 10, 15, 20]\n",
    "}\n",
    "\n",
    "clase_arbol.grid_fit_metrics(params_arbol_5)"
   ]
  },
  {
   "cell_type": "code",
   "execution_count": 7,
   "metadata": {},
   "outputs": [
    {
     "name": "stdout",
     "output_type": "stream",
     "text": [
      "Las mejores métricas para el modelo de DecisionTreeRegressor son:\n",
      "DecisionTreeRegressor(max_depth=11, max_leaf_nodes=130, min_samples_leaf=40,\n",
      "                      min_samples_split=5)\n"
     ]
    },
    {
     "data": {
      "text/html": [
       "<div>\n",
       "<style scoped>\n",
       "    .dataframe tbody tr th:only-of-type {\n",
       "        vertical-align: middle;\n",
       "    }\n",
       "\n",
       "    .dataframe tbody tr th {\n",
       "        vertical-align: top;\n",
       "    }\n",
       "\n",
       "    .dataframe thead th {\n",
       "        text-align: right;\n",
       "    }\n",
       "</style>\n",
       "<table border=\"1\" class=\"dataframe\">\n",
       "  <thead>\n",
       "    <tr style=\"text-align: right;\">\n",
       "      <th></th>\n",
       "      <th>r2_scores</th>\n",
       "      <th>MAE</th>\n",
       "      <th>MSE</th>\n",
       "      <th>RMSE</th>\n",
       "    </tr>\n",
       "  </thead>\n",
       "  <tbody>\n",
       "    <tr>\n",
       "      <th>train</th>\n",
       "      <td>0.726343</td>\n",
       "      <td>2131.598574</td>\n",
       "      <td>1.229929e+07</td>\n",
       "      <td>3507.034831</td>\n",
       "    </tr>\n",
       "    <tr>\n",
       "      <th>test</th>\n",
       "      <td>0.718840</td>\n",
       "      <td>2139.490860</td>\n",
       "      <td>1.232841e+07</td>\n",
       "      <td>3511.183975</td>\n",
       "    </tr>\n",
       "  </tbody>\n",
       "</table>\n",
       "</div>"
      ],
      "text/plain": [
       "       r2_scores          MAE           MSE         RMSE\n",
       "train   0.726343  2131.598574  1.229929e+07  3507.034831\n",
       "test    0.718840  2139.490860  1.232841e+07  3511.183975"
      ]
     },
     "execution_count": 7,
     "metadata": {},
     "output_type": "execute_result"
    }
   ],
   "source": [
    "# Reajustamos los parámetros y volvemos a probar\n",
    "params_arbol_6 = {\n",
    "    \"max_depth\" : [7,8,9,10,11],\n",
    "    \"max_leaf_nodes\" : [100, 110, 120, 130],\n",
    "    \"min_samples_leaf\" : [30, 40, 50, 60],\n",
    "    \"min_samples_split\" : [5, 10, 15, 20]\n",
    "}\n",
    "\n",
    "clase_arbol.grid_fit_metrics(params_arbol_6)"
   ]
  },
  {
   "cell_type": "code",
   "execution_count": 8,
   "metadata": {},
   "outputs": [
    {
     "name": "stdout",
     "output_type": "stream",
     "text": [
      "Las mejores métricas para el modelo de DecisionTreeRegressor son:\n",
      "DecisionTreeRegressor(max_depth=11, max_leaf_nodes=150, min_samples_leaf=30,\n",
      "                      min_samples_split=5)\n"
     ]
    },
    {
     "data": {
      "text/html": [
       "<div>\n",
       "<style scoped>\n",
       "    .dataframe tbody tr th:only-of-type {\n",
       "        vertical-align: middle;\n",
       "    }\n",
       "\n",
       "    .dataframe tbody tr th {\n",
       "        vertical-align: top;\n",
       "    }\n",
       "\n",
       "    .dataframe thead th {\n",
       "        text-align: right;\n",
       "    }\n",
       "</style>\n",
       "<table border=\"1\" class=\"dataframe\">\n",
       "  <thead>\n",
       "    <tr style=\"text-align: right;\">\n",
       "      <th></th>\n",
       "      <th>r2_scores</th>\n",
       "      <th>MAE</th>\n",
       "      <th>MSE</th>\n",
       "      <th>RMSE</th>\n",
       "    </tr>\n",
       "  </thead>\n",
       "  <tbody>\n",
       "    <tr>\n",
       "      <th>train</th>\n",
       "      <td>0.733135</td>\n",
       "      <td>2096.323025</td>\n",
       "      <td>1.199404e+07</td>\n",
       "      <td>3463.241765</td>\n",
       "    </tr>\n",
       "    <tr>\n",
       "      <th>test</th>\n",
       "      <td>0.724884</td>\n",
       "      <td>2105.998219</td>\n",
       "      <td>1.206340e+07</td>\n",
       "      <td>3473.240773</td>\n",
       "    </tr>\n",
       "  </tbody>\n",
       "</table>\n",
       "</div>"
      ],
      "text/plain": [
       "       r2_scores          MAE           MSE         RMSE\n",
       "train   0.733135  2096.323025  1.199404e+07  3463.241765\n",
       "test    0.724884  2105.998219  1.206340e+07  3473.240773"
      ]
     },
     "execution_count": 8,
     "metadata": {},
     "output_type": "execute_result"
    }
   ],
   "source": [
    "# Reajustamos los parámetros y volvemos a probar\n",
    "params_arbol_7 = {\n",
    "    \"max_depth\" : [10,11, 12, 13],\n",
    "    \"max_leaf_nodes\" : [120, 130, 140, 150],\n",
    "    \"min_samples_leaf\" : [30, 40, 50, 60],\n",
    "    \"min_samples_split\" : [5, 10, 15, 20]\n",
    "}\n",
    "\n",
    "clase_arbol.grid_fit_metrics(params_arbol_7)"
   ]
  },
  {
   "cell_type": "code",
   "execution_count": null,
   "metadata": {},
   "outputs": [
    {
     "name": "stdout",
     "output_type": "stream",
     "text": [
      "Las mejores métricas para el modelo de DecisionTreeRegressor son:\n",
      "DecisionTreeRegressor(max_depth=11, max_leaf_nodes=170, min_samples_leaf=20,\n",
      "                      min_samples_split=15)\n"
     ]
    },
    {
     "data": {
      "text/html": [
       "<div>\n",
       "<style scoped>\n",
       "    .dataframe tbody tr th:only-of-type {\n",
       "        vertical-align: middle;\n",
       "    }\n",
       "\n",
       "    .dataframe tbody tr th {\n",
       "        vertical-align: top;\n",
       "    }\n",
       "\n",
       "    .dataframe thead th {\n",
       "        text-align: right;\n",
       "    }\n",
       "</style>\n",
       "<table border=\"1\" class=\"dataframe\">\n",
       "  <thead>\n",
       "    <tr style=\"text-align: right;\">\n",
       "      <th></th>\n",
       "      <th>r2_scores</th>\n",
       "      <th>MAE</th>\n",
       "      <th>MSE</th>\n",
       "      <th>RMSE</th>\n",
       "    </tr>\n",
       "  </thead>\n",
       "  <tbody>\n",
       "    <tr>\n",
       "      <th>train</th>\n",
       "      <td>0.739462</td>\n",
       "      <td>2075.949673</td>\n",
       "      <td>1.170969e+07</td>\n",
       "      <td>3421.941780</td>\n",
       "    </tr>\n",
       "    <tr>\n",
       "      <th>test</th>\n",
       "      <td>0.730240</td>\n",
       "      <td>2088.451304</td>\n",
       "      <td>1.182853e+07</td>\n",
       "      <td>3439.263001</td>\n",
       "    </tr>\n",
       "  </tbody>\n",
       "</table>\n",
       "</div>"
      ],
      "text/plain": [
       "       r2_scores          MAE           MSE         RMSE\n",
       "train   0.739462  2075.949673  1.170969e+07  3421.941780\n",
       "test    0.730240  2088.451304  1.182853e+07  3439.263001"
      ]
     },
     "execution_count": 9,
     "metadata": {},
     "output_type": "execute_result"
    }
   ],
   "source": [
    "# Reajustamos los parámetros y volvemos a probar\n",
    "params_arbol_7 = {\n",
    "    \"max_depth\" : [10, 11, 12, 13],\n",
    "    \"max_leaf_nodes\" : [140, 150, 160, 170, 180],\n",
    "    \"min_samples_leaf\" : [10, 20, 30, 40, 50, 60],\n",
    "    \"min_samples_split\" : [5, 10, 15, 20]\n",
    "}\n",
    "\n",
    "clase_arbol.grid_fit_metrics(params_arbol_7)"
   ]
  },
  {
   "cell_type": "code",
   "execution_count": null,
   "metadata": {},
   "outputs": [
    {
     "name": "stdout",
     "output_type": "stream",
     "text": [
      "Las mejores métricas para el modelo de DecisionTreeRegressor son:\n",
      "DecisionTreeRegressor(max_depth=11, max_leaf_nodes=180, min_samples_leaf=20,\n",
      "                      min_samples_split=5)\n"
     ]
    },
    {
     "data": {
      "text/html": [
       "<div>\n",
       "<style scoped>\n",
       "    .dataframe tbody tr th:only-of-type {\n",
       "        vertical-align: middle;\n",
       "    }\n",
       "\n",
       "    .dataframe tbody tr th {\n",
       "        vertical-align: top;\n",
       "    }\n",
       "\n",
       "    .dataframe thead th {\n",
       "        text-align: right;\n",
       "    }\n",
       "</style>\n",
       "<table border=\"1\" class=\"dataframe\">\n",
       "  <thead>\n",
       "    <tr style=\"text-align: right;\">\n",
       "      <th></th>\n",
       "      <th>r2_scores</th>\n",
       "      <th>MAE</th>\n",
       "      <th>MSE</th>\n",
       "      <th>RMSE</th>\n",
       "    </tr>\n",
       "  </thead>\n",
       "  <tbody>\n",
       "    <tr>\n",
       "      <th>train</th>\n",
       "      <td>0.741945</td>\n",
       "      <td>2065.935816</td>\n",
       "      <td>1.159808e+07</td>\n",
       "      <td>3405.595737</td>\n",
       "    </tr>\n",
       "    <tr>\n",
       "      <th>test</th>\n",
       "      <td>0.732821</td>\n",
       "      <td>2077.019594</td>\n",
       "      <td>1.171538e+07</td>\n",
       "      <td>3422.773125</td>\n",
       "    </tr>\n",
       "  </tbody>\n",
       "</table>\n",
       "</div>"
      ],
      "text/plain": [
       "       r2_scores          MAE           MSE         RMSE\n",
       "train   0.741945  2065.935816  1.159808e+07  3405.595737\n",
       "test    0.732821  2077.019594  1.171538e+07  3422.773125"
      ]
     },
     "execution_count": 10,
     "metadata": {},
     "output_type": "execute_result"
    }
   ],
   "source": [
    "# Reajustamos los parámetros y volvemos a probar\n",
    "params_arbol_8 = {\n",
    "    \"max_depth\" : [10, 11, 12, 13],\n",
    "    \"max_leaf_nodes\" : [140, 150, 160, 170, 180],\n",
    "    \"min_samples_leaf\" : [10, 20, 30, 40, 50, 60],\n",
    "    \"min_samples_split\" : [5, 10, 15, 20]\n",
    "}\n",
    "\n",
    "clase_arbol.grid_fit_metrics(params_arbol_8)"
   ]
  },
  {
   "cell_type": "code",
   "execution_count": 11,
   "metadata": {},
   "outputs": [
    {
     "name": "stdout",
     "output_type": "stream",
     "text": [
      "Las mejores métricas para el modelo de DecisionTreeRegressor son:\n",
      "DecisionTreeRegressor(max_depth=11, max_leaf_nodes=200, min_samples_leaf=20,\n",
      "                      min_samples_split=15)\n"
     ]
    },
    {
     "data": {
      "text/html": [
       "<div>\n",
       "<style scoped>\n",
       "    .dataframe tbody tr th:only-of-type {\n",
       "        vertical-align: middle;\n",
       "    }\n",
       "\n",
       "    .dataframe tbody tr th {\n",
       "        vertical-align: top;\n",
       "    }\n",
       "\n",
       "    .dataframe thead th {\n",
       "        text-align: right;\n",
       "    }\n",
       "</style>\n",
       "<table border=\"1\" class=\"dataframe\">\n",
       "  <thead>\n",
       "    <tr style=\"text-align: right;\">\n",
       "      <th></th>\n",
       "      <th>r2_scores</th>\n",
       "      <th>MAE</th>\n",
       "      <th>MSE</th>\n",
       "      <th>RMSE</th>\n",
       "    </tr>\n",
       "  </thead>\n",
       "  <tbody>\n",
       "    <tr>\n",
       "      <th>train</th>\n",
       "      <td>0.746447</td>\n",
       "      <td>2049.242492</td>\n",
       "      <td>1.139571e+07</td>\n",
       "      <td>3375.753626</td>\n",
       "    </tr>\n",
       "    <tr>\n",
       "      <th>test</th>\n",
       "      <td>0.736245</td>\n",
       "      <td>2064.149772</td>\n",
       "      <td>1.156525e+07</td>\n",
       "      <td>3400.771444</td>\n",
       "    </tr>\n",
       "  </tbody>\n",
       "</table>\n",
       "</div>"
      ],
      "text/plain": [
       "       r2_scores          MAE           MSE         RMSE\n",
       "train   0.746447  2049.242492  1.139571e+07  3375.753626\n",
       "test    0.736245  2064.149772  1.156525e+07  3400.771444"
      ]
     },
     "execution_count": 11,
     "metadata": {},
     "output_type": "execute_result"
    }
   ],
   "source": [
    "# Reajustamos los parámetros y volvemos a probar\n",
    "params_arbol_9 = {\n",
    "    \"max_depth\" : [10, 11, 12, 13],\n",
    "    \"max_leaf_nodes\" : [170, 180, 190, 200],\n",
    "    \"min_samples_leaf\" : [10, 20, 30, 40],\n",
    "    \"min_samples_split\" : [5, 10, 15, 20]\n",
    "}\n",
    "\n",
    "clase_arbol.grid_fit_metrics(params_arbol_9)"
   ]
  },
  {
   "cell_type": "code",
   "execution_count": 12,
   "metadata": {},
   "outputs": [
    {
     "name": "stdout",
     "output_type": "stream",
     "text": [
      "Las mejores métricas para el modelo de DecisionTreeRegressor son:\n",
      "DecisionTreeRegressor(max_depth=12, max_leaf_nodes=260, min_samples_leaf=10,\n",
      "                      min_samples_split=5)\n"
     ]
    },
    {
     "data": {
      "text/html": [
       "<div>\n",
       "<style scoped>\n",
       "    .dataframe tbody tr th:only-of-type {\n",
       "        vertical-align: middle;\n",
       "    }\n",
       "\n",
       "    .dataframe tbody tr th {\n",
       "        vertical-align: top;\n",
       "    }\n",
       "\n",
       "    .dataframe thead th {\n",
       "        text-align: right;\n",
       "    }\n",
       "</style>\n",
       "<table border=\"1\" class=\"dataframe\">\n",
       "  <thead>\n",
       "    <tr style=\"text-align: right;\">\n",
       "      <th></th>\n",
       "      <th>r2_scores</th>\n",
       "      <th>MAE</th>\n",
       "      <th>MSE</th>\n",
       "      <th>RMSE</th>\n",
       "    </tr>\n",
       "  </thead>\n",
       "  <tbody>\n",
       "    <tr>\n",
       "      <th>train</th>\n",
       "      <td>0.758958</td>\n",
       "      <td>1995.459882</td>\n",
       "      <td>1.083344e+07</td>\n",
       "      <td>3291.419637</td>\n",
       "    </tr>\n",
       "    <tr>\n",
       "      <th>test</th>\n",
       "      <td>0.747587</td>\n",
       "      <td>2012.691727</td>\n",
       "      <td>1.106792e+07</td>\n",
       "      <td>3326.848189</td>\n",
       "    </tr>\n",
       "  </tbody>\n",
       "</table>\n",
       "</div>"
      ],
      "text/plain": [
       "       r2_scores          MAE           MSE         RMSE\n",
       "train   0.758958  1995.459882  1.083344e+07  3291.419637\n",
       "test    0.747587  2012.691727  1.106792e+07  3326.848189"
      ]
     },
     "execution_count": 12,
     "metadata": {},
     "output_type": "execute_result"
    }
   ],
   "source": [
    "# Reajustamos los parámetros y volvemos a probar\n",
    "params_arbol_10 = {\n",
    "    \"max_depth\" : [10, 11, 12, 13],\n",
    "    \"max_leaf_nodes\" : [200, 220, 240, 260],\n",
    "    \"min_samples_leaf\" : [10, 20, 30, 40],\n",
    "    \"min_samples_split\" : [5, 10, 15, 20]\n",
    "}\n",
    "\n",
    "clase_arbol.grid_fit_metrics(params_arbol_10)"
   ]
  },
  {
   "cell_type": "code",
   "execution_count": 13,
   "metadata": {},
   "outputs": [
    {
     "name": "stdout",
     "output_type": "stream",
     "text": [
      "Las mejores métricas para el modelo de DecisionTreeRegressor son:\n",
      "DecisionTreeRegressor(max_depth=13, max_leaf_nodes=400, min_samples_leaf=10,\n",
      "                      min_samples_split=10)\n"
     ]
    },
    {
     "data": {
      "text/html": [
       "<div>\n",
       "<style scoped>\n",
       "    .dataframe tbody tr th:only-of-type {\n",
       "        vertical-align: middle;\n",
       "    }\n",
       "\n",
       "    .dataframe tbody tr th {\n",
       "        vertical-align: top;\n",
       "    }\n",
       "\n",
       "    .dataframe thead th {\n",
       "        text-align: right;\n",
       "    }\n",
       "</style>\n",
       "<table border=\"1\" class=\"dataframe\">\n",
       "  <thead>\n",
       "    <tr style=\"text-align: right;\">\n",
       "      <th></th>\n",
       "      <th>r2_scores</th>\n",
       "      <th>MAE</th>\n",
       "      <th>MSE</th>\n",
       "      <th>RMSE</th>\n",
       "    </tr>\n",
       "  </thead>\n",
       "  <tbody>\n",
       "    <tr>\n",
       "      <th>train</th>\n",
       "      <td>0.776205</td>\n",
       "      <td>1915.788240</td>\n",
       "      <td>1.005830e+07</td>\n",
       "      <td>3171.481854</td>\n",
       "    </tr>\n",
       "    <tr>\n",
       "      <th>test</th>\n",
       "      <td>0.763896</td>\n",
       "      <td>1939.394076</td>\n",
       "      <td>1.035278e+07</td>\n",
       "      <td>3217.573917</td>\n",
       "    </tr>\n",
       "  </tbody>\n",
       "</table>\n",
       "</div>"
      ],
      "text/plain": [
       "       r2_scores          MAE           MSE         RMSE\n",
       "train   0.776205  1915.788240  1.005830e+07  3171.481854\n",
       "test    0.763896  1939.394076  1.035278e+07  3217.573917"
      ]
     },
     "execution_count": 13,
     "metadata": {},
     "output_type": "execute_result"
    }
   ],
   "source": [
    "# Reajustamos los parámetros y volvemos a probar\n",
    "params_arbol_11 = {\n",
    "    \"max_depth\" : [10, 11, 12, 13],\n",
    "    \"max_leaf_nodes\" : [260, 300, 350, 400],\n",
    "    \"min_samples_leaf\" : [5, 10, 20, 30, 40],\n",
    "    \"min_samples_split\" : [5, 10, 15, 20]\n",
    "}\n",
    "\n",
    "clase_arbol.grid_fit_metrics(params_arbol_11)"
   ]
  },
  {
   "cell_type": "code",
   "execution_count": 14,
   "metadata": {},
   "outputs": [
    {
     "name": "stdout",
     "output_type": "stream",
     "text": [
      "Las mejores métricas para el modelo de DecisionTreeRegressor son:\n"
     ]
    },
    {
     "name": "stderr",
     "output_type": "stream",
     "text": [
      "C:\\Users\\Elena\\AppData\\Local\\Packages\\PythonSoftwareFoundation.Python.3.11_qbz5n2kfra8p0\\LocalCache\\local-packages\\Python311\\site-packages\\numpy\\ma\\core.py:2846: RuntimeWarning: invalid value encountered in cast\n",
      "  _data = np.array(data, dtype=dtype, copy=copy,\n"
     ]
    },
    {
     "name": "stdout",
     "output_type": "stream",
     "text": [
      "DecisionTreeRegressor(max_depth=13, max_leaf_nodes=550, min_samples_leaf=10,\n",
      "                      min_samples_split=10)\n"
     ]
    },
    {
     "data": {
      "text/html": [
       "<div>\n",
       "<style scoped>\n",
       "    .dataframe tbody tr th:only-of-type {\n",
       "        vertical-align: middle;\n",
       "    }\n",
       "\n",
       "    .dataframe tbody tr th {\n",
       "        vertical-align: top;\n",
       "    }\n",
       "\n",
       "    .dataframe thead th {\n",
       "        text-align: right;\n",
       "    }\n",
       "</style>\n",
       "<table border=\"1\" class=\"dataframe\">\n",
       "  <thead>\n",
       "    <tr style=\"text-align: right;\">\n",
       "      <th></th>\n",
       "      <th>r2_scores</th>\n",
       "      <th>MAE</th>\n",
       "      <th>MSE</th>\n",
       "      <th>RMSE</th>\n",
       "    </tr>\n",
       "  </thead>\n",
       "  <tbody>\n",
       "    <tr>\n",
       "      <th>train</th>\n",
       "      <td>0.787898</td>\n",
       "      <td>1857.930271</td>\n",
       "      <td>9.532746e+06</td>\n",
       "      <td>3087.514526</td>\n",
       "    </tr>\n",
       "    <tr>\n",
       "      <th>test</th>\n",
       "      <td>0.773138</td>\n",
       "      <td>1887.339344</td>\n",
       "      <td>9.947535e+06</td>\n",
       "      <td>3153.971308</td>\n",
       "    </tr>\n",
       "  </tbody>\n",
       "</table>\n",
       "</div>"
      ],
      "text/plain": [
       "       r2_scores          MAE           MSE         RMSE\n",
       "train   0.787898  1857.930271  9.532746e+06  3087.514526\n",
       "test    0.773138  1887.339344  9.947535e+06  3153.971308"
      ]
     },
     "execution_count": 14,
     "metadata": {},
     "output_type": "execute_result"
    }
   ],
   "source": [
    "# Reajustamos los parámetros y volvemos a probar\n",
    "params_arbol_12 = {\n",
    "    \"max_depth\" : [11, 12, 13],\n",
    "    \"max_leaf_nodes\" : [400, 450, 500, 550],\n",
    "    \"min_samples_leaf\" : [5, 10, 20, 30, 40],\n",
    "    \"min_samples_split\" : [5, 10, 15, 20]\n",
    "}\n",
    "\n",
    "clase_arbol.grid_fit_metrics(params_arbol_12)"
   ]
  },
  {
   "cell_type": "code",
   "execution_count": 15,
   "metadata": {},
   "outputs": [
    {
     "name": "stdout",
     "output_type": "stream",
     "text": [
      "Las mejores métricas para el modelo de DecisionTreeRegressor son:\n",
      "DecisionTreeRegressor(max_depth=15, max_leaf_nodes=800, min_samples_leaf=10,\n",
      "                      min_samples_split=20)\n"
     ]
    },
    {
     "data": {
      "text/html": [
       "<div>\n",
       "<style scoped>\n",
       "    .dataframe tbody tr th:only-of-type {\n",
       "        vertical-align: middle;\n",
       "    }\n",
       "\n",
       "    .dataframe tbody tr th {\n",
       "        vertical-align: top;\n",
       "    }\n",
       "\n",
       "    .dataframe thead th {\n",
       "        text-align: right;\n",
       "    }\n",
       "</style>\n",
       "<table border=\"1\" class=\"dataframe\">\n",
       "  <thead>\n",
       "    <tr style=\"text-align: right;\">\n",
       "      <th></th>\n",
       "      <th>r2_scores</th>\n",
       "      <th>MAE</th>\n",
       "      <th>MSE</th>\n",
       "      <th>RMSE</th>\n",
       "    </tr>\n",
       "  </thead>\n",
       "  <tbody>\n",
       "    <tr>\n",
       "      <th>train</th>\n",
       "      <td>0.802706</td>\n",
       "      <td>1787.706416</td>\n",
       "      <td>8.867231e+06</td>\n",
       "      <td>2977.789570</td>\n",
       "    </tr>\n",
       "    <tr>\n",
       "      <th>test</th>\n",
       "      <td>0.781624</td>\n",
       "      <td>1831.809429</td>\n",
       "      <td>9.575443e+06</td>\n",
       "      <td>3094.421324</td>\n",
       "    </tr>\n",
       "  </tbody>\n",
       "</table>\n",
       "</div>"
      ],
      "text/plain": [
       "       r2_scores          MAE           MSE         RMSE\n",
       "train   0.802706  1787.706416  8.867231e+06  2977.789570\n",
       "test    0.781624  1831.809429  9.575443e+06  3094.421324"
      ]
     },
     "execution_count": 15,
     "metadata": {},
     "output_type": "execute_result"
    }
   ],
   "source": [
    "# Reajustamos los parámetros y volvemos a probar\n",
    "params_arbol_13 = {\n",
    "    \"max_depth\" : [12, 13, 14, 15],\n",
    "    \"max_leaf_nodes\" : [550, 600, 700, 800],\n",
    "    \"min_samples_leaf\" : [5, 10, 20, 30, 40],\n",
    "    \"min_samples_split\" : [5, 10, 15, 20]\n",
    "}\n",
    "\n",
    "clase_arbol.grid_fit_metrics(params_arbol_13)"
   ]
  },
  {
   "cell_type": "code",
   "execution_count": 16,
   "metadata": {},
   "outputs": [
    {
     "name": "stdout",
     "output_type": "stream",
     "text": [
      "Las mejores métricas para el modelo de DecisionTreeRegressor son:\n",
      "DecisionTreeRegressor(max_depth=17, max_leaf_nodes=1200, min_samples_leaf=10,\n",
      "                      min_samples_split=30)\n"
     ]
    },
    {
     "data": {
      "text/html": [
       "<div>\n",
       "<style scoped>\n",
       "    .dataframe tbody tr th:only-of-type {\n",
       "        vertical-align: middle;\n",
       "    }\n",
       "\n",
       "    .dataframe tbody tr th {\n",
       "        vertical-align: top;\n",
       "    }\n",
       "\n",
       "    .dataframe thead th {\n",
       "        text-align: right;\n",
       "    }\n",
       "</style>\n",
       "<table border=\"1\" class=\"dataframe\">\n",
       "  <thead>\n",
       "    <tr style=\"text-align: right;\">\n",
       "      <th></th>\n",
       "      <th>r2_scores</th>\n",
       "      <th>MAE</th>\n",
       "      <th>MSE</th>\n",
       "      <th>RMSE</th>\n",
       "    </tr>\n",
       "  </thead>\n",
       "  <tbody>\n",
       "    <tr>\n",
       "      <th>train</th>\n",
       "      <td>0.816483</td>\n",
       "      <td>1720.140263</td>\n",
       "      <td>8.248020e+06</td>\n",
       "      <td>2871.936549</td>\n",
       "    </tr>\n",
       "    <tr>\n",
       "      <th>test</th>\n",
       "      <td>0.788387</td>\n",
       "      <td>1784.238130</td>\n",
       "      <td>9.278892e+06</td>\n",
       "      <td>3046.127365</td>\n",
       "    </tr>\n",
       "  </tbody>\n",
       "</table>\n",
       "</div>"
      ],
      "text/plain": [
       "       r2_scores          MAE           MSE         RMSE\n",
       "train   0.816483  1720.140263  8.248020e+06  2871.936549\n",
       "test    0.788387  1784.238130  9.278892e+06  3046.127365"
      ]
     },
     "execution_count": 16,
     "metadata": {},
     "output_type": "execute_result"
    }
   ],
   "source": [
    "# Reajustamos los parámetros y volvemos a probar\n",
    "params_arbol_14 = {\n",
    "    \"max_depth\" : [14, 15, 16, 17],\n",
    "    \"max_leaf_nodes\" : [800, 900, 1000, 1200],\n",
    "    \"min_samples_leaf\" : [5, 10, 20, 30],\n",
    "    \"min_samples_split\" : [5, 10, 20, 30]\n",
    "}\n",
    "\n",
    "clase_arbol.grid_fit_metrics(params_arbol_14)"
   ]
  },
  {
   "cell_type": "markdown",
   "metadata": {},
   "source": [
    "Cada vez empieza a haber más diferencia entre el RMSE del train y del test lo que me indica que puede que esté comenzando a haer un poco de overfitting, por lo que la siguiente estrategia sería volver al preprocesamiento y volver a intentarlo."
   ]
  },
  {
   "cell_type": "markdown",
   "metadata": {},
   "source": []
  }
 ],
 "metadata": {
  "kernelspec": {
   "display_name": "Python 3",
   "language": "python",
   "name": "python3"
  },
  "language_info": {
   "codemirror_mode": {
    "name": "ipython",
    "version": 3
   },
   "file_extension": ".py",
   "mimetype": "text/x-python",
   "name": "python",
   "nbconvert_exporter": "python",
   "pygments_lexer": "ipython3",
   "version": "3.11.9"
  }
 },
 "nbformat": 4,
 "nbformat_minor": 2
}
