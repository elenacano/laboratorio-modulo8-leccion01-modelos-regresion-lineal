{
 "cells": [
  {
   "cell_type": "markdown",
   "metadata": {},
   "source": [
    "# Modelos Ensamble"
   ]
  },
  {
   "cell_type": "markdown",
   "metadata": {},
   "source": [
    "Vamos a probar para nuestro modelos distintos modelos de ensamble a ver cual es el que mejor funciona."
   ]
  },
  {
   "cell_type": "code",
   "execution_count": 1,
   "metadata": {},
   "outputs": [],
   "source": [
    "# Tratamiento de datos\n",
    "# -----------------------------------------------------------------------\n",
    "import pandas as pd\n",
    "import numpy as np\n",
    "\n",
    "# Visualizaciones\n",
    "# -----------------------------------------------------------------------\n",
    "import seaborn as sns\n",
    "import matplotlib.pyplot as plt\n",
    "from sklearn import tree\n",
    "\n",
    "# Para realizar la regresión lineal y la evaluación del modelo\n",
    "# -----------------------------------------------------------------------\n",
    "from sklearn.linear_model import LinearRegression\n",
    "from sklearn.tree import DecisionTreeRegressor, plot_tree\n",
    "from sklearn.ensemble import RandomForestRegressor\n",
    "from sklearn.ensemble import GradientBoostingRegressor\n",
    "from sklearn.model_selection import train_test_split,GridSearchCV\n",
    "from sklearn.metrics import r2_score, mean_squared_error, mean_absolute_error\n",
    "from sklearn.model_selection import KFold,LeaveOneOut, cross_val_score\n",
    "from sklearn.preprocessing import StandardScaler\n",
    "\n",
    "from tqdm import tqdm\n",
    "\n",
    "# Ignorar los warnings\n",
    "# -----------------------------------------------------------------------\n",
    "import warnings\n",
    "warnings.filterwarnings('ignore')\n",
    "\n",
    "import sys\n",
    "sys.path.append(\"../\")\n",
    "from src import funciones_problemas_regresion as fpr"
   ]
  },
  {
   "cell_type": "code",
   "execution_count": 2,
   "metadata": {},
   "outputs": [],
   "source": [
    "df =  pd.read_csv(\"../datos/df_autorenew_nonulls_estand_sinout_encoded.csv\", index_col=0).reset_index(drop=True)\n",
    "df_sample = df.sample(30000)\n",
    "variable_respuesta = \"price\""
   ]
  },
  {
   "cell_type": "markdown",
   "metadata": {},
   "source": [
    "________________________________________"
   ]
  },
  {
   "cell_type": "markdown",
   "metadata": {},
   "source": [
    "## Random Forest Regressor"
   ]
  },
  {
   "cell_type": "code",
   "execution_count": 3,
   "metadata": {},
   "outputs": [
    {
     "name": "stdout",
     "output_type": "stream",
     "text": [
      "Calculando el modelo con RandomForestRegressor...\n",
      "Las mejores métricas para el modelo de DecisionTreeRegressor son:\n",
      "{'max_depth': 20, 'max_leaf_nodes': 300, 'min_samples_leaf': 15, 'min_samples_split': 15, 'n_estimators': 100}\n"
     ]
    },
    {
     "data": {
      "text/html": [
       "<div>\n",
       "<style scoped>\n",
       "    .dataframe tbody tr th:only-of-type {\n",
       "        vertical-align: middle;\n",
       "    }\n",
       "\n",
       "    .dataframe tbody tr th {\n",
       "        vertical-align: top;\n",
       "    }\n",
       "\n",
       "    .dataframe thead th {\n",
       "        text-align: right;\n",
       "    }\n",
       "</style>\n",
       "<table border=\"1\" class=\"dataframe\">\n",
       "  <thead>\n",
       "    <tr style=\"text-align: right;\">\n",
       "      <th></th>\n",
       "      <th>r2_scores</th>\n",
       "      <th>MAE</th>\n",
       "      <th>MSE</th>\n",
       "      <th>RMSE</th>\n",
       "    </tr>\n",
       "  </thead>\n",
       "  <tbody>\n",
       "    <tr>\n",
       "      <th>train</th>\n",
       "      <td>0.784689</td>\n",
       "      <td>1788.570378</td>\n",
       "      <td>9.370644e+06</td>\n",
       "      <td>3061.150831</td>\n",
       "    </tr>\n",
       "    <tr>\n",
       "      <th>test</th>\n",
       "      <td>0.744358</td>\n",
       "      <td>1990.782470</td>\n",
       "      <td>1.184837e+07</td>\n",
       "      <td>3442.145686</td>\n",
       "    </tr>\n",
       "  </tbody>\n",
       "</table>\n",
       "</div>"
      ],
      "text/plain": [
       "       r2_scores          MAE           MSE         RMSE\n",
       "train   0.784689  1788.570378  9.370644e+06  3061.150831\n",
       "test    0.744358  1990.782470  1.184837e+07  3442.145686"
      ]
     },
     "execution_count": 3,
     "metadata": {},
     "output_type": "execute_result"
    }
   ],
   "source": [
    "variable_respuesta = \"price\"\n",
    "modelo = \"RandomForestRegressor\"\n",
    "\n",
    "# Inicializamos la clase, separamos VR y VD y separamos el train y el test.\n",
    "clase_arbol = fpr.ProblemaRegresion(df_sample, variable_respuesta, modelo)\n",
    "clase_arbol.separar_variables()\n",
    "clase_arbol.separar_train_test()\n",
    "\n",
    "# Estudiamos cuales son los mejores parámetros, entrenamos al modelo y vemos las métricas.\n",
    "params_rf = {\n",
    "    'n_estimators': [50, 100, 150], #número de árboles que queremos en el bosque\n",
    "    'max_depth': [15, 20, 30],\n",
    "    'min_samples_split': [15, 20, 25],\n",
    "    'min_samples_leaf': [15, 20, 25], \n",
    "    'max_leaf_nodes': [100, 200, 300]\n",
    "}\n",
    "\n",
    "clase_arbol.grid_search(params_rf, cv=3)"
   ]
  },
  {
   "cell_type": "code",
   "execution_count": 4,
   "metadata": {},
   "outputs": [
    {
     "name": "stdout",
     "output_type": "stream",
     "text": [
      "Calculando el modelo con RandomForestRegressor...\n",
      "Las mejores métricas para el modelo de DecisionTreeRegressor son:\n",
      "{'max_depth': 15, 'max_leaf_nodes': 500, 'min_samples_leaf': 10, 'min_samples_split': 10, 'n_estimators': 125}\n"
     ]
    },
    {
     "data": {
      "text/html": [
       "<div>\n",
       "<style scoped>\n",
       "    .dataframe tbody tr th:only-of-type {\n",
       "        vertical-align: middle;\n",
       "    }\n",
       "\n",
       "    .dataframe tbody tr th {\n",
       "        vertical-align: top;\n",
       "    }\n",
       "\n",
       "    .dataframe thead th {\n",
       "        text-align: right;\n",
       "    }\n",
       "</style>\n",
       "<table border=\"1\" class=\"dataframe\">\n",
       "  <thead>\n",
       "    <tr style=\"text-align: right;\">\n",
       "      <th></th>\n",
       "      <th>r2_scores</th>\n",
       "      <th>MAE</th>\n",
       "      <th>MSE</th>\n",
       "      <th>RMSE</th>\n",
       "    </tr>\n",
       "  </thead>\n",
       "  <tbody>\n",
       "    <tr>\n",
       "      <th>train</th>\n",
       "      <td>0.815577</td>\n",
       "      <td>1685.095612</td>\n",
       "      <td>8.294877e+06</td>\n",
       "      <td>2880.082770</td>\n",
       "    </tr>\n",
       "    <tr>\n",
       "      <th>test</th>\n",
       "      <td>0.732799</td>\n",
       "      <td>1919.721471</td>\n",
       "      <td>1.164419e+07</td>\n",
       "      <td>3412.357888</td>\n",
       "    </tr>\n",
       "  </tbody>\n",
       "</table>\n",
       "</div>"
      ],
      "text/plain": [
       "       r2_scores          MAE           MSE         RMSE\n",
       "train   0.815577  1685.095612  8.294877e+06  2880.082770\n",
       "test    0.732799  1919.721471  1.164419e+07  3412.357888"
      ]
     },
     "execution_count": 4,
     "metadata": {},
     "output_type": "execute_result"
    }
   ],
   "source": [
    "params_rf_2 = {\n",
    "    'n_estimators': [75, 100, 125], #número de árboles que queremos en el bosque\n",
    "    'max_depth': [15, 20, 25],\n",
    "    'min_samples_split': [10, 15, 20],\n",
    "    'min_samples_leaf': [10, 15, 20],\n",
    "    'max_leaf_nodes': [300, 400, 500]\n",
    "}\n",
    "\n",
    "clase_arbol.grid_search(params_rf_2, cv=3)"
   ]
  },
  {
   "cell_type": "markdown",
   "metadata": {},
   "source": [
    "_____________________________________"
   ]
  },
  {
   "cell_type": "markdown",
   "metadata": {},
   "source": [
    "## Gradient Boosting Regressor"
   ]
  },
  {
   "cell_type": "code",
   "execution_count": 4,
   "metadata": {},
   "outputs": [
    {
     "name": "stdout",
     "output_type": "stream",
     "text": [
      "Calculando el modelo con GradientBoostingRegressor...\n",
      "Las mejores métricas para el modelo de DecisionTreeRegressor son:\n",
      "{'max_depth': 10, 'max_leaf_nodes': 400, 'min_samples_leaf': 15, 'min_samples_split': 10, 'n_estimators': 125}\n"
     ]
    },
    {
     "data": {
      "text/html": [
       "<div>\n",
       "<style scoped>\n",
       "    .dataframe tbody tr th:only-of-type {\n",
       "        vertical-align: middle;\n",
       "    }\n",
       "\n",
       "    .dataframe tbody tr th {\n",
       "        vertical-align: top;\n",
       "    }\n",
       "\n",
       "    .dataframe thead th {\n",
       "        text-align: right;\n",
       "    }\n",
       "</style>\n",
       "<table border=\"1\" class=\"dataframe\">\n",
       "  <thead>\n",
       "    <tr style=\"text-align: right;\">\n",
       "      <th></th>\n",
       "      <th>r2_scores</th>\n",
       "      <th>MAE</th>\n",
       "      <th>MSE</th>\n",
       "      <th>RMSE</th>\n",
       "    </tr>\n",
       "  </thead>\n",
       "  <tbody>\n",
       "    <tr>\n",
       "      <th>train</th>\n",
       "      <td>0.895748</td>\n",
       "      <td>1336.855012</td>\n",
       "      <td>4.537209e+06</td>\n",
       "      <td>2130.072531</td>\n",
       "    </tr>\n",
       "    <tr>\n",
       "      <th>test</th>\n",
       "      <td>0.787655</td>\n",
       "      <td>1810.078595</td>\n",
       "      <td>9.841666e+06</td>\n",
       "      <td>3137.142938</td>\n",
       "    </tr>\n",
       "  </tbody>\n",
       "</table>\n",
       "</div>"
      ],
      "text/plain": [
       "       r2_scores          MAE           MSE         RMSE\n",
       "train   0.895748  1336.855012  4.537209e+06  2130.072531\n",
       "test    0.787655  1810.078595  9.841666e+06  3137.142938"
      ]
     },
     "execution_count": 4,
     "metadata": {},
     "output_type": "execute_result"
    }
   ],
   "source": [
    "modelo = \"GradientBoostingRegressor\"\n",
    "\n",
    "# Inicializamos la clase, separamos VR y VD y separamos el train y el test.\n",
    "clase_arbol = fpr.ProblemaRegresion(df_sample, variable_respuesta, modelo)\n",
    "clase_arbol.separar_variables()\n",
    "clase_arbol.separar_train_test()\n",
    "\n",
    "# Estudiamos cuales son los mejores parámetros, entrenamos al modelo y vemos las métricas.\n",
    "params_rf = {\n",
    "    'n_estimators': [75, 100, 125], #número de árboles que queremos en el bosque\n",
    "    'max_depth': [10, 15, 20],\n",
    "    'min_samples_split': [10, 15, 20],\n",
    "    'min_samples_leaf': [10, 15, 20],\n",
    "    'max_leaf_nodes': [300, 400, 500]\n",
    "}\n",
    "\n",
    "clase_arbol.grid_search(params_rf, cv=3)"
   ]
  },
  {
   "cell_type": "markdown",
   "metadata": {},
   "source": [
    "## XGB Regressor"
   ]
  },
  {
   "cell_type": "code",
   "execution_count": 7,
   "metadata": {},
   "outputs": [
    {
     "name": "stdout",
     "output_type": "stream",
     "text": [
      "Calculando el modelo con XGBRegressor...\n",
      "Las mejores métricas para el modelo de DecisionTreeRegressor son:\n",
      "{'colsample_bytree': 0.8, 'learning_rate': 0.2, 'max_depth': 5, 'min_child_weight': 1, 'n_estimators': 150, 'subsample': 1.0}\n"
     ]
    },
    {
     "data": {
      "text/html": [
       "<div>\n",
       "<style scoped>\n",
       "    .dataframe tbody tr th:only-of-type {\n",
       "        vertical-align: middle;\n",
       "    }\n",
       "\n",
       "    .dataframe tbody tr th {\n",
       "        vertical-align: top;\n",
       "    }\n",
       "\n",
       "    .dataframe thead th {\n",
       "        text-align: right;\n",
       "    }\n",
       "</style>\n",
       "<table border=\"1\" class=\"dataframe\">\n",
       "  <thead>\n",
       "    <tr style=\"text-align: right;\">\n",
       "      <th></th>\n",
       "      <th>r2_scores</th>\n",
       "      <th>MAE</th>\n",
       "      <th>MSE</th>\n",
       "      <th>RMSE</th>\n",
       "    </tr>\n",
       "  </thead>\n",
       "  <tbody>\n",
       "    <tr>\n",
       "      <th>train</th>\n",
       "      <td>0.865319</td>\n",
       "      <td>1559.126386</td>\n",
       "      <td>6.057622e+06</td>\n",
       "      <td>2461.223721</td>\n",
       "    </tr>\n",
       "    <tr>\n",
       "      <th>test</th>\n",
       "      <td>0.763334</td>\n",
       "      <td>1852.755420</td>\n",
       "      <td>1.031355e+07</td>\n",
       "      <td>3211.471231</td>\n",
       "    </tr>\n",
       "  </tbody>\n",
       "</table>\n",
       "</div>"
      ],
      "text/plain": [
       "       r2_scores          MAE           MSE         RMSE\n",
       "train   0.865319  1559.126386  6.057622e+06  2461.223721\n",
       "test    0.763334  1852.755420  1.031355e+07  3211.471231"
      ]
     },
     "execution_count": 7,
     "metadata": {},
     "output_type": "execute_result"
    }
   ],
   "source": [
    "modelo = \"XGBRegressor\"\n",
    "\n",
    "# Inicializamos la clase, separamos VR y VD y separamos el train y el test.\n",
    "clase_arbol = fpr.ProblemaRegresion(df_sample, variable_respuesta, modelo)\n",
    "clase_arbol.separar_variables()\n",
    "clase_arbol.separar_train_test()\n",
    "\n",
    "# Estudiamos cuales son los mejores parámetros, entrenamos al modelo y vemos las métricas.\n",
    "params_xgb = {\n",
    "    'n_estimators': [50, 100, 150],\n",
    "    'learning_rate': [0.01, 0.1, 0.2],\n",
    "    'max_depth': [3, 4, 5],\n",
    "    'min_child_weight': [1, 2, 4],  # Equivalente a min_samples_leaf\n",
    "    'subsample': [0.8, 1.0],        # Para evitar sobreajuste\n",
    "    'colsample_bytree': [0.8, 1.0]  # Selección de columnas al construir cada árbol\n",
    "}\n",
    "\n",
    "clase_arbol.grid_search(params_xgb, cv=3)"
   ]
  },
  {
   "cell_type": "code",
   "execution_count": 8,
   "metadata": {},
   "outputs": [],
   "source": [
    "def sacar_metricas(y_train, y_test, y_pred_train, y_pred_test):\n",
    "    metricas = {\n",
    "        'train': {\n",
    "            'r2': r2_score(y_train, y_pred_train),\n",
    "            'MAE': mean_absolute_error(y_train, y_pred_train),\n",
    "            'MSE': mean_squared_error(y_train, y_pred_train),\n",
    "            'RMSE': np.sqrt(mean_squared_error(y_train, y_pred_train))\n",
    "        },\n",
    "        'test': {\n",
    "            'r2': r2_score(y_test, y_pred_test),\n",
    "            'MAE': mean_absolute_error(y_test, y_pred_test),\n",
    "            'MSE': mean_squared_error(y_test, y_pred_test),\n",
    "            'RMSE': np.sqrt(mean_squared_error(y_test, y_pred_test))\n",
    "\n",
    "        }\n",
    "    }\n",
    "\n",
    "\n",
    "    return  pd.DataFrame(metricas).T"
   ]
  },
  {
   "cell_type": "code",
   "execution_count": 10,
   "metadata": {},
   "outputs": [
    {
     "data": {
      "text/html": [
       "<div>\n",
       "<style scoped>\n",
       "    .dataframe tbody tr th:only-of-type {\n",
       "        vertical-align: middle;\n",
       "    }\n",
       "\n",
       "    .dataframe tbody tr th {\n",
       "        vertical-align: top;\n",
       "    }\n",
       "\n",
       "    .dataframe thead th {\n",
       "        text-align: right;\n",
       "    }\n",
       "</style>\n",
       "<table border=\"1\" class=\"dataframe\">\n",
       "  <thead>\n",
       "    <tr style=\"text-align: right;\">\n",
       "      <th></th>\n",
       "      <th>r2</th>\n",
       "      <th>MAE</th>\n",
       "      <th>MSE</th>\n",
       "      <th>RMSE</th>\n",
       "    </tr>\n",
       "  </thead>\n",
       "  <tbody>\n",
       "    <tr>\n",
       "      <th>train</th>\n",
       "      <td>0.865319</td>\n",
       "      <td>1559.126386</td>\n",
       "      <td>6.057622e+06</td>\n",
       "      <td>2461.223721</td>\n",
       "    </tr>\n",
       "    <tr>\n",
       "      <th>test</th>\n",
       "      <td>0.763334</td>\n",
       "      <td>1852.755420</td>\n",
       "      <td>1.031355e+07</td>\n",
       "      <td>3211.471231</td>\n",
       "    </tr>\n",
       "  </tbody>\n",
       "</table>\n",
       "</div>"
      ],
      "text/plain": [
       "             r2          MAE           MSE         RMSE\n",
       "train  0.865319  1559.126386  6.057622e+06  2461.223721\n",
       "test   0.763334  1852.755420  1.031355e+07  3211.471231"
      ]
     },
     "execution_count": 10,
     "metadata": {},
     "output_type": "execute_result"
    }
   ],
   "source": [
    "from xgboost import XGBRegressor\n",
    "\n",
    "X = df_sample.drop(\"price\", axis = 1)\n",
    "y = df_sample[[\"price\"]]\n",
    "\n",
    "X_train, X_test, y_train,y_test = train_test_split(X,y, train_size=0.7, random_state=42, shuffle=True)\n",
    "\n",
    "modelo_xgb = XGBRegressor(random_state=42,  eval_metric='rmse')\n",
    "\n",
    "# Definimos un espacio de parámetros para optimizar\n",
    "params_xgb = {\n",
    "    'n_estimators': [50, 100, 150],\n",
    "    'learning_rate': [0.01, 0.1, 0.2],\n",
    "    'max_depth': [3, 4, 5],\n",
    "    'min_child_weight': [1, 2, 4],  # Equivalente a min_samples_leaf\n",
    "    'subsample': [0.8, 1.0],        # Para evitar sobreajuste\n",
    "    'colsample_bytree': [0.8, 1.0]  # Selección de columnas al construir cada árbol\n",
    "}\n",
    "\n",
    "# Optimización con GridSearchCV\n",
    "random_search_xgb = GridSearchCV(modelo_xgb, \n",
    "                                 params_xgb, \n",
    "                                 cv=3, \n",
    "                                 scoring=\"neg_mean_squared_error\", \n",
    "                                 n_jobs=-1)\n",
    "\n",
    "random_search_xgb.fit(X_train, y_train.to_numpy().ravel())\n",
    "\n",
    "# Mejor modelo obtenido\n",
    "modelo_final_xgb = random_search_xgb.best_estimator_\n",
    "\n",
    "\n",
    "y_pred_test_xg = modelo_final_xgb.predict(X_test)\n",
    "y_pred_train_xg = modelo_final_xgb.predict(X_train)\n",
    "\n",
    "resultados_xg= sacar_metricas(y_train, y_test, y_pred_train_xg, y_pred_test_xg)\n",
    "resultados_xg\n"
   ]
  },
  {
   "cell_type": "code",
   "execution_count": null,
   "metadata": {},
   "outputs": [],
   "source": []
  }
 ],
 "metadata": {
  "kernelspec": {
   "display_name": "Python 3",
   "language": "python",
   "name": "python3"
  },
  "language_info": {
   "codemirror_mode": {
    "name": "ipython",
    "version": 3
   },
   "file_extension": ".py",
   "mimetype": "text/x-python",
   "name": "python",
   "nbconvert_exporter": "python",
   "pygments_lexer": "ipython3",
   "version": "3.11.9"
  }
 },
 "nbformat": 4,
 "nbformat_minor": 2
}
